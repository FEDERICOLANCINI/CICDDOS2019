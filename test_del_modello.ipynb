{
 "cells": [
  {
   "cell_type": "code",
   "execution_count": 3,
   "metadata": {},
   "outputs": [],
   "source": [
    "import numpy as np\n",
    "import pandas as pd\n",
    "from matplotlib import pyplot as plt\n",
    "import seaborn as sns\n",
    "from sklearn.metrics import confusion_matrix\n",
    "from tqdm.notebook import tqdm\n",
    "import torch\n",
    "import torch.nn as nn\n",
    "from torch.utils.data import DataLoader, random_split, TensorDataset\n",
    "from sklearn.model_selection import train_test_split\n",
    "from sklearn.metrics import accuracy_score, f1_score\n",
    "import torch.nn.functional as F\n",
    "import pdb\n",
    "from PIL import Image\n",
    "import os \n",
    "import torchvision.transforms as transforms\n",
    "from torchvision.datasets import ImageFolder\n",
    "import torchvision\n",
    "from tqdm import tqdm\n",
    "device = torch.device('cuda' if torch.cuda.is_available() else 'cpu')\n",
    "from sklearn.preprocessing import StandardScaler\n",
    "from modello import compute_output_size, calculate_metrics, CNN"
   ]
  },
  {
   "cell_type": "code",
   "execution_count": 4,
   "metadata": {},
   "outputs": [],
   "source": [
    "dataset_no_correlazioni=pd.read_csv(\"dataset_no_correlazioni.csv\", nrows=5)\n",
    "colonne_riferimento = dataset_no_correlazioni.columns.tolist()"
   ]
  },
  {
   "cell_type": "code",
   "execution_count": 5,
   "metadata": {},
   "outputs": [
    {
     "name": "stdout",
     "output_type": "stream",
     "text": [
      "importazione: UDP.csv\n"
     ]
    },
    {
     "name": "stderr",
     "output_type": "stream",
     "text": [
      "/tmp/ipykernel_528714/4205280207.py:7: DtypeWarning: Columns (85) have mixed types. Specify dtype option on import or set low_memory=False.\n",
      "  df_sampled = pd.read_csv(file_path)\n"
     ]
    },
    {
     "name": "stdout",
     "output_type": "stream",
     "text": [
      "importazione: MSSQL.csv\n"
     ]
    },
    {
     "name": "stderr",
     "output_type": "stream",
     "text": [
      "/tmp/ipykernel_528714/4205280207.py:7: DtypeWarning: Columns (85) have mixed types. Specify dtype option on import or set low_memory=False.\n",
      "  df_sampled = pd.read_csv(file_path)\n"
     ]
    },
    {
     "name": "stdout",
     "output_type": "stream",
     "text": [
      "importazione: UDPLag.csv\n"
     ]
    },
    {
     "name": "stderr",
     "output_type": "stream",
     "text": [
      "/tmp/ipykernel_528714/4205280207.py:7: DtypeWarning: Columns (85) have mixed types. Specify dtype option on import or set low_memory=False.\n",
      "  df_sampled = pd.read_csv(file_path)\n"
     ]
    },
    {
     "name": "stdout",
     "output_type": "stream",
     "text": [
      "importazione: Syn.csv\n"
     ]
    },
    {
     "name": "stderr",
     "output_type": "stream",
     "text": [
      "/tmp/ipykernel_528714/4205280207.py:7: DtypeWarning: Columns (85) have mixed types. Specify dtype option on import or set low_memory=False.\n",
      "  df_sampled = pd.read_csv(file_path)\n"
     ]
    },
    {
     "name": "stdout",
     "output_type": "stream",
     "text": [
      "importazione: LDAP.csv\n"
     ]
    },
    {
     "name": "stderr",
     "output_type": "stream",
     "text": [
      "/tmp/ipykernel_528714/4205280207.py:7: DtypeWarning: Columns (85) have mixed types. Specify dtype option on import or set low_memory=False.\n",
      "  df_sampled = pd.read_csv(file_path)\n"
     ]
    },
    {
     "name": "stdout",
     "output_type": "stream",
     "text": [
      "importazione: NetBIOS.csv\n"
     ]
    },
    {
     "name": "stderr",
     "output_type": "stream",
     "text": [
      "/tmp/ipykernel_528714/4205280207.py:7: DtypeWarning: Columns (85) have mixed types. Specify dtype option on import or set low_memory=False.\n",
      "  df_sampled = pd.read_csv(file_path)\n"
     ]
    },
    {
     "name": "stdout",
     "output_type": "stream",
     "text": [
      "importazione: Portmap.csv\n"
     ]
    },
    {
     "name": "stderr",
     "output_type": "stream",
     "text": [
      "/tmp/ipykernel_528714/4205280207.py:7: DtypeWarning: Columns (85) have mixed types. Specify dtype option on import or set low_memory=False.\n",
      "  df_sampled = pd.read_csv(file_path)\n"
     ]
    }
   ],
   "source": [
    "cartella = '03-11/' \n",
    "dataset = pd.DataFrame()\n",
    "for file_name in os.listdir(cartella):\n",
    "    if file_name.endswith('.csv'):\n",
    "        print(\"importazione:\", file_name)\n",
    "        file_path = os.path.join(cartella, file_name)   \n",
    "        df_sampled = pd.read_csv(file_path)        \n",
    "        dataset = pd.concat([dataset, df_sampled])\n",
    "#dataset = dataset[colonne_riferimento]\n",
    "\n",
    "#dataset = dataset.replace([np.inf, -np.inf], np.nan)\n",
    "#dataset = dataset.dropna()\n",
    "\n",
    "#dataset[' Label'] = dataset[' Label'].map({'BENIGN': 0}).fillna(1).astype(int)"
   ]
  },
  {
   "cell_type": "code",
   "execution_count": 6,
   "metadata": {},
   "outputs": [],
   "source": [
    "#nome_file=\"03-11/UDPLag.csv\"\n",
    "#with open(nome_file) as f:\n",
    "#    total_rows = sum(1 for _ in f) - 1  # Sottrai 1 per l'intestazione\n",
    "\n",
    "#dataset = pd.read_csv(nome_file)\n",
    "dataset = dataset[colonne_riferimento]\n",
    "\n",
    "dataset = dataset.replace([np.inf, -np.inf], np.nan)\n",
    "dataset = dataset.dropna()\n",
    "\n",
    "dataset[' Label'] = dataset[' Label'].map({'BENIGN': 0}).fillna(1).astype(int)"
   ]
  },
  {
   "cell_type": "code",
   "execution_count": 7,
   "metadata": {},
   "outputs": [
    {
     "data": {
      "text/plain": [
       "(19557011, 47)"
      ]
     },
     "execution_count": 7,
     "metadata": {},
     "output_type": "execute_result"
    }
   ],
   "source": [
    "dataset.shape"
   ]
  },
  {
   "cell_type": "code",
   "execution_count": 8,
   "metadata": {},
   "outputs": [],
   "source": [
    "labels = dataset[' Label']\n",
    "features = dataset.drop(columns=[' Label'])\n",
    "\n",
    "# Applico lo StandardScaler alle feature\n",
    "scaler = StandardScaler()\n",
    "features_normalized = scaler.fit_transform(features)\n",
    "\n",
    "# Crea un nuovo DataFrame con le feature normalizzate\n",
    "dataset_normalized = pd.DataFrame(features_normalized, columns=features.columns)\n",
    "\n",
    "# Aggiungi di nuovo la colonna 'Label' al dataset normalizzato\n",
    "dataset_normalized[' Label'] = labels.reset_index(drop=True)\n",
    "\n",
    "X = dataset_normalized.drop(columns=[' Label']).values\n",
    "y = dataset_normalized[' Label'].values   # Converte le etichette in numeri\n",
    "\n",
    "X_test_tensor = torch.FloatTensor(X)\n",
    "y_test_tensor = torch.FloatTensor(y)\n",
    "\n",
    "test_dataset = TensorDataset(X_test_tensor, y_test_tensor)"
   ]
  },
  {
   "cell_type": "code",
   "execution_count": 11,
   "metadata": {},
   "outputs": [
    {
     "name": "stderr",
     "output_type": "stream",
     "text": [
      "/tmp/ipykernel_528714/1377746546.py:4: FutureWarning: You are using `torch.load` with `weights_only=False` (the current default value), which uses the default pickle module implicitly. It is possible to construct malicious pickle data which will execute arbitrary code during unpickling (See https://github.com/pytorch/pytorch/blob/main/SECURITY.md#untrusted-models for more details). In a future release, the default value for `weights_only` will be flipped to `True`. This limits the functions that could be executed during unpickling. Arbitrary objects will no longer be allowed to be loaded via this mode unless they are explicitly allowlisted by the user via `torch.serialization.add_safe_globals`. We recommend you start setting `weights_only=True` for any use case where you don't have full control of the loaded file. Please open an issue on GitHub for any issues related to this experimental feature.\n",
      "  model.load_state_dict(torch.load(path_coefficienti))\n"
     ]
    }
   ],
   "source": [
    "path_coefficienti=\"model_weights.pth\"\n",
    "lunghezza_vettore = X.shape[1]\n",
    "model = CNN(lunghezza_vettore=lunghezza_vettore).to(device)\n",
    "model.load_state_dict(torch.load(path_coefficienti))\n",
    "\n",
    "batch_size = 1024\n",
    "test_loader = torch.utils.data.DataLoader(test_dataset, batch_size=batch_size,\n",
    "                                           shuffle=True)\n",
    "loss_fn = nn.BCELoss()"
   ]
  },
  {
   "cell_type": "code",
   "execution_count": 12,
   "metadata": {},
   "outputs": [
    {
     "name": "stderr",
     "output_type": "stream",
     "text": [
      "                                                                    \r"
     ]
    },
    {
     "name": "stdout",
     "output_type": "stream",
     "text": [
      "Test Loss: 0.0059\n",
      "Accuracy: 0.9994\n",
      "F1 Score: 0.9997\n",
      "Recall: 0.9994\n"
     ]
    },
    {
     "data": {
      "image/png": "[encoded data removed]",
      "text/plain": [
       "<Figure size 800x600 with 2 Axes>"
      ]
     },
     "metadata": {},
     "output_type": "display_data"
    }
   ],
   "source": [
    "import torch\n",
    "from sklearn.metrics import accuracy_score, f1_score, recall_score, confusion_matrix\n",
    "import seaborn as sns\n",
    "import matplotlib.pyplot as plt\n",
    "\n",
    "# Metti il modello in modalità di valutazione\n",
    "model.eval()\n",
    "\n",
    "# Variabili per tenere traccia delle predizioni e delle etichette reali\n",
    "all_preds = []\n",
    "all_labels = []\n",
    "test_loss = 0.0\n",
    "\n",
    "# Disattiva il calcolo dei gradienti\n",
    "with torch.no_grad():\n",
    "    for images, labels in tqdm(test_loader, desc=\"Test Progress\", leave=False):\n",
    "        images, labels = images.to(device), labels.to(device).float()\n",
    "        \n",
    "        # Ottieni le predizioni\n",
    "        yhat = model(images).squeeze(1)\n",
    "        \n",
    "        # Calcola il loss\n",
    "        loss = loss_fn(yhat, labels)\n",
    "        test_loss += loss.item()\n",
    "        \n",
    "        # Applica una soglia di 0.5 per classificare come 0 o 1 (adatto per output di tipo sigmoid)\n",
    "        preds = (yhat > 0.5).float()\n",
    "        \n",
    "        # Memorizza le predizioni e le etichette vere\n",
    "        all_preds.extend(preds.cpu().numpy())\n",
    "        all_labels.extend(labels.cpu().numpy())\n",
    "\n",
    "# Calcola il loss medio sul test set\n",
    "avg_test_loss = test_loss / len(test_loader)\n",
    "\n",
    "# Calcola altre metriche\n",
    "accuracy = accuracy_score(all_labels, all_preds)\n",
    "f1 = f1_score(all_labels, all_preds)\n",
    "recall = recall_score(all_labels, all_preds)\n",
    "\n",
    "# Stampa le metriche\n",
    "print(f\"Test Loss: {avg_test_loss:.4f}\")\n",
    "print(f\"Accuracy: {accuracy:.4f}\")\n",
    "print(f\"F1 Score: {f1:.4f}\")\n",
    "print(f\"Recall: {recall:.4f}\")\n",
    "\n",
    "# Calcola e visualizza la matrice di confusione\n",
    "conf_matrix = confusion_matrix(all_labels, all_preds)\n",
    "plt.figure(figsize=(8, 6))\n",
    "sns.heatmap(conf_matrix, annot=True, fmt=\"d\", cmap=\"Blues\", xticklabels=[\"Benign\", \"Malware\"], yticklabels=[\"Benign\", \"Malware\"])\n",
    "plt.xlabel(\"Predicted Label\")\n",
    "plt.ylabel(\"True Label\")\n",
    "plt.title('Confusion Matrix')\n",
    "\n",
    "#base_name = os.path.basename(nome_file)  # Ottiene 'LDAP.csv'\n",
    "#name_without_ext = os.path.splitext(base_name)[0]  # Ottiene 'LDAP'\n",
    "#output_file_name = f'confusion_matrix_{name_without_ext}.png'\n",
    "output_file_name = f'confusion_matrix_test.png'\n",
    "plt.savefig(output_file_name)\n",
    "plt.show()"
   ]
  }
 ],
 "metadata": {
  "kernelspec": {
   "display_name": ".venv",
   "language": "python",
   "name": "python3"
  },
  "language_info": {
   "codemirror_mode": {
    "name": "ipython",
    "version": 3
   },
   "file_extension": ".py",
   "mimetype": "text/x-python",
   "name": "python",
   "nbconvert_exporter": "python",
   "pygments_lexer": "ipython3",
   "version": "3.12.3"
  }
 },
 "nbformat": 4,
 "nbformat_minor": 2
}
