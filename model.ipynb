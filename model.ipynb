{
 "cells": [
  {
   "cell_type": "markdown",
   "metadata": {},
   "source": [
    "# Importazione librerie"
   ]
  },
  {
   "cell_type": "code",
   "execution_count": 1,
   "metadata": {},
   "outputs": [],
   "source": [
    "import numpy as np\n",
    "import pandas as pd\n",
    "from matplotlib import pyplot as plt\n",
    "import seaborn as sns\n",
    "from sklearn.metrics import confusion_matrix\n",
    "from tqdm.notebook import tqdm\n",
    "import torch\n",
    "import torch.nn as nn\n",
    "from torch.utils.data import DataLoader, random_split, TensorDataset\n",
    "from sklearn.model_selection import train_test_split\n",
    "from sklearn.metrics import accuracy_score, f1_score\n",
    "import torch.nn.functional as F\n",
    "import pdb\n",
    "from PIL import Image\n",
    "import torchvision.transforms as transforms\n",
    "from torchvision.datasets import ImageFolder\n",
    "import torchvision\n",
    "from tqdm import tqdm\n",
    "device = torch.device('cuda' if torch.cuda.is_available() else 'cpu')\n",
    "from sklearn.preprocessing import StandardScaler"
   ]
  },
  {
   "cell_type": "markdown",
   "metadata": {},
   "source": [
    "# Definizione delle funzioni e della rete neurale"
   ]
  },
  {
   "cell_type": "code",
   "execution_count": 2,
   "metadata": {},
   "outputs": [],
   "source": [
    "def compute_output_size(height, width, conv_params, pool_params):\n",
    "    \"\"\"\n",
    "    Calcola le dimensioni dell'output dopo i layer convolutivi e di pooling alternati.\n",
    "\n",
    "    Args:\n",
    "        height (int): Altezza dell'immagine in input.\n",
    "        width (int): Larghezza dell'immagine in input.\n",
    "        conv_params (list of tuples): Parametri dei layer convolutivi.\n",
    "            Ogni tupla deve contenere (kernel_size, stride, padding).\n",
    "            pool_params (list of tuples): Parametri dei layer di max pooling.\n",
    "            Ogni tupla deve contenere (kernel_size, stride).\n",
    "\n",
    "    Returns:\n",
    "        tuple: Una tupla contenente le dimensioni dell'output (output_height, output_width).\n",
    "    \"\"\"\n",
    "    for i in range(len(conv_params)):\n",
    "        # Calcolo delle dimensioni dell'output dopo il layer convolutivo\n",
    "        kernel_size, stride, padding = conv_params[i]\n",
    "        height = ((height + 2 * padding - kernel_size) // stride) + 1\n",
    "        width = ((width + 2 * padding - kernel_size) // stride) + 1\n",
    "\n",
    "        if i < len(pool_params):\n",
    "            # Se ci sono layer di pooling successivi, calcola le dimensioni dell'output dopo il layer di max pooling\n",
    "            kernel_size, stride = pool_params[i]\n",
    "            height = (height - kernel_size) // stride + 1\n",
    "            width = (width - kernel_size) // stride + 1\n",
    "\n",
    "    return height, width\n",
    "\n",
    "\n",
    "def calculate_metrics(predictions, targets):\n",
    "    predictions = predictions.cpu().detach().numpy()  # Applica la sigmoide per ottenere probabilità\n",
    "    predictions = (predictions > 0.5).astype(int)  # Applica una soglia di 0.5 e converte in 0 o 1\n",
    "    targets = targets.cpu().detach().numpy()  # Converte le etichette in un array NumPy\n",
    "    accuracy = accuracy_score(targets, predictions)  # Calcola l'accuratezza\n",
    "    return accuracy\n"
   ]
  },
  {
   "cell_type": "markdown",
   "metadata": {},
   "source": [
    "# DEFINIZIONE DELLA RETE"
   ]
  },
  {
   "cell_type": "code",
   "execution_count": 3,
   "metadata": {},
   "outputs": [],
   "source": [
    "class CNN(nn.Module):\n",
    "    def __init__(self,\n",
    "                 lunghezza_vettore=46,  # lunghezza del vettore\n",
    "                 canali_input=1,  # numero di canali di input\n",
    "                 num_classi=1,  # numero di classi\n",
    "                 ):\n",
    "        super(CNN, self).__init__()\n",
    "\n",
    "        self.lunghezza_vettore = lunghezza_vettore\n",
    "        self.colonne_encoding = 20\n",
    "        self.canali_input = canali_input\n",
    "        self.num_classi = num_classi\n",
    "        \n",
    "        self.encoding_row = nn.Parameter(torch.randn(1, self.colonne_encoding))\n",
    "\n",
    "        \n",
    "        self.conv1 = nn.Conv2d(canali_input, 6, kernel_size=5, stride=1, padding=1)\n",
    "        self.pool = nn.MaxPool2d(2, 2)\n",
    "        self.conv2 = nn.Conv2d(6, 16, kernel_size=5, stride=1, padding=1)\n",
    "\n",
    "        # Calcolo delle dimensioni di output dopo le convoluzioni\n",
    "        altezza_immagine = lunghezza_vettore\n",
    "        larghezza_immagine = self.colonne_encoding\n",
    "        conv_params = [(5, 1, 1), (5, 1, 1)]\n",
    "        pool_params = []\n",
    "        self.output_height, self.output_width = compute_output_size(altezza_immagine, larghezza_immagine, conv_params, pool_params)\n",
    "\n",
    "        # Fully Connected layer\n",
    "        self.fc = nn.Linear(384, num_classi)\n",
    "\n",
    "    def forward(self, x):        \n",
    "        batch_size = x.size(0)  # Prendi la dimensione del batch\n",
    "        #print(\"dimensioni x iniziali:\", x.shape)\n",
    "        x = x.unsqueeze(1) \n",
    "        #print(\"dimensioni dopo unsqueeze:\", x.shape)\n",
    "        x = x.transpose(1, 2) # Trasposizione di ogni vettore del batch      \n",
    "        #print(\"Dimensioni dell'input x dopo la trasposizione:\", x.shape)\n",
    "        encoding_matrix = self.encoding_row.repeat(batch_size, 1, 1)\n",
    "        #print(\"dimensioni del vettore di encoding:\", encoding_matrix.shape)\n",
    "        x = torch.bmm(x, encoding_matrix)\n",
    "        #print(\"Dimensioni dell'immagine dopo la moltiplicazione batch-wise:\", x.shape)  # (batch_size, lunghezza_vettore, colonne_encoding)\n",
    "        x = x.unsqueeze(1)  # (batch_size, 1, lunghezza_vettore, colonne_encoding)\n",
    "        #print(\"dimensione dopo unsqueeze:\", x.shape)\n",
    "\n",
    "        # Passaggio attraverso i layer convoluzionali\n",
    "        x = self.pool(F.relu(self.conv1(x)))  # Applica conv1 e poi max pooling\n",
    "        #print(\"dimensioni dopo la prima conv:\", x.shape)\n",
    "        x = self.pool(F.relu(self.conv2(x)))  # Applica conv2 e poi max pooling\n",
    "\n",
    "        #print(\"dimensioni dopo le convoluzioni:\", x.shape)\n",
    "        # Flatten per il fully connected\n",
    "        #print(\"dimensioni prima del flattening:\", x.shape)\n",
    "        x = x.view(x.size(0), -1)\n",
    "\n",
    "        #print(\"dimensioni dopo il flattening:\", x.shape)\n",
    "        #print(\"dimensioni previste:\", self.output_height, self.output_width)\n",
    "        \n",
    "        # Fully connected\n",
    "        x = self.fc(x)\n",
    "\n",
    "        # Applica la sigmoid per la classificazione binaria\n",
    "        x = torch.sigmoid(x)\n",
    "        \n",
    "        return x"
   ]
  },
  {
   "cell_type": "markdown",
   "metadata": {},
   "source": [
    "# DATASET"
   ]
  },
  {
   "cell_type": "code",
   "execution_count": null,
   "metadata": {},
   "outputs": [
    {
     "name": "stdout",
     "output_type": "stream",
     "text": [
      "Index([' Flow Duration', ' Total Fwd Packets', ' Total Backward Packets',\n",
      "       ' Total Length of Bwd Packets', ' Bwd Packet Length Min',\n",
      "       ' Bwd Packet Length Mean', ' Bwd Packet Length Std', 'Flow Bytes/s',\n",
      "       ' Flow IAT Min', ' Fwd IAT Max', 'Bwd IAT Total', ' Bwd IAT Std',\n",
      "       ' Bwd IAT Min', 'Fwd PSH Flags', ' Fwd Header Length', 'Fwd Packets/s',\n",
      "       ' Bwd Packets/s', ' Packet Length Mean', ' Packet Length Std',\n",
      "       ' Packet Length Variance', ' SYN Flag Count', ' RST Flag Count',\n",
      "       ' ACK Flag Count', ' URG Flag Count', ' CWE Flag Count',\n",
      "       ' Down/Up Ratio', ' Avg Bwd Segment Size', ' Fwd Header Length.1',\n",
      "       'Subflow Fwd Packets', ' Subflow Bwd Packets', ' Subflow Bwd Bytes',\n",
      "       'Init_Win_bytes_forward', ' Init_Win_bytes_backward',\n",
      "       ' min_seg_size_forward', 'Active Mean', ' Active Std', ' Active Max',\n",
      "       ' Active Min', ' Idle Std', ' Inbound', ' Label'],\n",
      "      dtype='object')\n"
     ]
    }
   ],
   "source": [
    "dataset=pd.read_csv(\"dataset_no_correlazioni.csv\")\n",
    "print(dataset.columns)\n",
    "dataset[' Label'] = dataset[' Label'].map({'BENIGN': 0}).fillna(1).astype(int)\n",
    "dataset = dataset.replace([np.inf, -np.inf], np.nan)\n",
    "dataset = dataset.dropna()\n",
    "\n",
    "labels = dataset[' Label']\n",
    "features = dataset.drop(columns=[' Label'])\n",
    "\n",
    "# Applica lo StandardScaler solo alle feature\n",
    "scaler = StandardScaler()\n",
    "features_normalized = scaler.fit_transform(features)\n",
    "\n",
    "# Crea un nuovo DataFrame con le feature normalizzate\n",
    "dataset_normalized = pd.DataFrame(features_normalized, columns=features.columns)\n",
    "\n",
    "# Aggiungi di nuovo la colonna 'Label' al dataset normalizzato\n",
    "dataset_normalized[' Label'] = labels.reset_index(drop=True)\n",
    "\n",
    "X = dataset_normalized.drop(columns=[' Label']).values\n",
    "y = dataset_normalized[' Label'].values   # Converte le etichette in numeri\n",
    "\n",
    "X_train, X_test, y_train, y_test = train_test_split(X, y, test_size=0.1, random_state=42)\n",
    "\n",
    "X_train_tensor = torch.FloatTensor(X_train)\n",
    "y_train_tensor = torch.FloatTensor(y_train)\n",
    "X_test_tensor = torch.FloatTensor(X_test)\n",
    "y_test_tensor = torch.FloatTensor(y_test)\n",
    "\n",
    "\n",
    "train_dataset = TensorDataset(X_train_tensor, y_train_tensor)\n",
    "test_dataset = TensorDataset(X_test_tensor, y_test_tensor)"
   ]
  },
  {
   "cell_type": "code",
   "execution_count": 42,
   "metadata": {},
   "outputs": [
    {
     "data": {
      "text/plain": [
       "Index([' Flow Duration', ' Total Fwd Packets', ' Total Backward Packets',\n",
       "       ' Total Length of Bwd Packets', ' Bwd Packet Length Min',\n",
       "       ' Bwd Packet Length Mean', ' Bwd Packet Length Std', 'Flow Bytes/s',\n",
       "       ' Flow IAT Min', ' Fwd IAT Max', 'Bwd IAT Total', ' Bwd IAT Std',\n",
       "       ' Bwd IAT Min', 'Fwd PSH Flags', ' Fwd Header Length', 'Fwd Packets/s',\n",
       "       ' Bwd Packets/s', ' Packet Length Mean', ' Packet Length Std',\n",
       "       ' Packet Length Variance', ' SYN Flag Count', ' RST Flag Count',\n",
       "       ' ACK Flag Count', ' URG Flag Count', ' CWE Flag Count',\n",
       "       ' Down/Up Ratio', ' Avg Bwd Segment Size', ' Fwd Header Length.1',\n",
       "       'Subflow Fwd Packets', ' Subflow Bwd Packets', ' Subflow Bwd Bytes',\n",
       "       'Init_Win_bytes_forward', ' Init_Win_bytes_backward',\n",
       "       ' min_seg_size_forward', 'Active Mean', ' Active Std', ' Active Max',\n",
       "       ' Active Min', ' Idle Std', ' Inbound', ' Label'],\n",
       "      dtype='object')"
      ]
     },
     "execution_count": 42,
     "metadata": {},
     "output_type": "execute_result"
    }
   ],
   "source": [
    "dataset.columns"
   ]
  },
  {
   "cell_type": "code",
   "execution_count": 17,
   "metadata": {},
   "outputs": [],
   "source": [
    "counter=dataset[\" Label\"].value_counts()"
   ]
  },
  {
   "cell_type": "code",
   "execution_count": 22,
   "metadata": {},
   "outputs": [
    {
     "data": {
      "text/plain": [
       "96028"
      ]
     },
     "execution_count": 22,
     "metadata": {},
     "output_type": "execute_result"
    }
   ],
   "source": [
    "counter[1]"
   ]
  },
  {
   "cell_type": "markdown",
   "metadata": {},
   "source": [
    "# Definizione parametri della rete"
   ]
  },
  {
   "cell_type": "code",
   "execution_count": 43,
   "metadata": {},
   "outputs": [
    {
     "name": "stdout",
     "output_type": "stream",
     "text": [
      "Batch dimensioni: torch.Size([32, 40]), torch.Size([32])\n"
     ]
    }
   ],
   "source": [
    "from collections import Counter\n",
    "\n",
    "n_epochs = 5\n",
    "batch_size = 32\n",
    "lr = 0.0001\n",
    "plotting_freq = 1\n",
    "losses_list = []\n",
    "\n",
    "\n",
    "# Crea un tensore con i pesi in ordine di classe (es: [peso_classe_0, peso_classe_1])\n",
    "weight_class_0=counter[1]/len(dataset)\n",
    "weight_class_1=counter[0]/len(dataset)\n",
    "class_weights = torch.tensor([weight_class_0, weight_class_1], dtype=torch.float32)\n",
    "\n",
    "\n",
    "lunghezza_vettore = X.shape[1]\n",
    "model = CNN(lunghezza_vettore=lunghezza_vettore).to(device)\n",
    "\n",
    "train_loader = DataLoader(train_dataset, batch_size=batch_size, shuffle=True)\n",
    "test_loader = DataLoader(test_dataset, batch_size=batch_size, shuffle=False)\n",
    "\n",
    "# Verifica la dimensione dei batch\n",
    "for batch in train_loader:\n",
    "    inputs, labels = batch\n",
    "    print(f'Batch dimensioni: {inputs.shape}, {labels.shape}')  # Dovrebbe mostrare (batch_size, lunghezza) per inputs\n",
    "    break  # Mostra solo il primo batch\n",
    "# loss function e ottimizzatore\n",
    "loss_fn = nn.BCELoss()\n",
    "optimizer = torch.optim.Adam(model.parameters(), lr=lr)"
   ]
  },
  {
   "cell_type": "markdown",
   "metadata": {},
   "source": [
    "# Training della rete"
   ]
  },
  {
   "cell_type": "code",
   "execution_count": 44,
   "metadata": {},
   "outputs": [
    {
     "name": "stdout",
     "output_type": "stream",
     "text": [
      "inizio del training del modello\n"
     ]
    },
    {
     "name": "stderr",
     "output_type": "stream",
     "text": [
      "  0%|          | 0/5 [00:00<?, ?it/s]"
     ]
    },
    {
     "name": "stdout",
     "output_type": "stream",
     "text": [
      "epoca numero: 0\n",
      "Batch 0 di 2708\n"
     ]
    },
    {
     "name": "stderr",
     "output_type": "stream",
     "text": [
      "\n"
     ]
    },
    {
     "ename": "RuntimeError",
     "evalue": "mat1 and mat2 shapes cannot be multiplied (32x384 and 432x1)",
     "output_type": "error",
     "traceback": [
      "\u001b[1;31m---------------------------------------------------------------------------\u001b[0m",
      "\u001b[1;31mRuntimeError\u001b[0m                              Traceback (most recent call last)",
      "Cell \u001b[1;32mIn[44], line 13\u001b[0m\n\u001b[0;32m     11\u001b[0m images, labels \u001b[38;5;241m=\u001b[39m images\u001b[38;5;241m.\u001b[39mto(device), labels\u001b[38;5;241m.\u001b[39mto(device)\u001b[38;5;241m.\u001b[39mfloat()\n\u001b[0;32m     12\u001b[0m \u001b[38;5;66;03m#pdb.set_trace()\u001b[39;00m\n\u001b[1;32m---> 13\u001b[0m yhat \u001b[38;5;241m=\u001b[39m \u001b[43mmodel\u001b[49m\u001b[43m(\u001b[49m\u001b[43mimages\u001b[49m\u001b[43m)\u001b[49m\u001b[38;5;241m.\u001b[39msqueeze(\u001b[38;5;241m1\u001b[39m)\n\u001b[0;32m     14\u001b[0m \u001b[38;5;66;03m#print(\"previsione:\", yhat)\u001b[39;00m\n\u001b[0;32m     15\u001b[0m \u001b[38;5;66;03m#print(\"label vera:\", labels)\u001b[39;00m\n\u001b[0;32m     16\u001b[0m batch_weights \u001b[38;5;241m=\u001b[39m class_weights[labels\u001b[38;5;241m.\u001b[39mlong()]\n",
      "File \u001b[1;32mc:\\Users\\user\\AppData\\Local\\Programs\\Python\\Python311\\Lib\\site-packages\\torch\\nn\\modules\\module.py:1553\u001b[0m, in \u001b[0;36mModule._wrapped_call_impl\u001b[1;34m(self, *args, **kwargs)\u001b[0m\n\u001b[0;32m   1551\u001b[0m     \u001b[38;5;28;01mreturn\u001b[39;00m \u001b[38;5;28mself\u001b[39m\u001b[38;5;241m.\u001b[39m_compiled_call_impl(\u001b[38;5;241m*\u001b[39margs, \u001b[38;5;241m*\u001b[39m\u001b[38;5;241m*\u001b[39mkwargs)  \u001b[38;5;66;03m# type: ignore[misc]\u001b[39;00m\n\u001b[0;32m   1552\u001b[0m \u001b[38;5;28;01melse\u001b[39;00m:\n\u001b[1;32m-> 1553\u001b[0m     \u001b[38;5;28;01mreturn\u001b[39;00m \u001b[38;5;28;43mself\u001b[39;49m\u001b[38;5;241;43m.\u001b[39;49m\u001b[43m_call_impl\u001b[49m\u001b[43m(\u001b[49m\u001b[38;5;241;43m*\u001b[39;49m\u001b[43margs\u001b[49m\u001b[43m,\u001b[49m\u001b[43m \u001b[49m\u001b[38;5;241;43m*\u001b[39;49m\u001b[38;5;241;43m*\u001b[39;49m\u001b[43mkwargs\u001b[49m\u001b[43m)\u001b[49m\n",
      "File \u001b[1;32mc:\\Users\\user\\AppData\\Local\\Programs\\Python\\Python311\\Lib\\site-packages\\torch\\nn\\modules\\module.py:1562\u001b[0m, in \u001b[0;36mModule._call_impl\u001b[1;34m(self, *args, **kwargs)\u001b[0m\n\u001b[0;32m   1557\u001b[0m \u001b[38;5;66;03m# If we don't have any hooks, we want to skip the rest of the logic in\u001b[39;00m\n\u001b[0;32m   1558\u001b[0m \u001b[38;5;66;03m# this function, and just call forward.\u001b[39;00m\n\u001b[0;32m   1559\u001b[0m \u001b[38;5;28;01mif\u001b[39;00m \u001b[38;5;129;01mnot\u001b[39;00m (\u001b[38;5;28mself\u001b[39m\u001b[38;5;241m.\u001b[39m_backward_hooks \u001b[38;5;129;01mor\u001b[39;00m \u001b[38;5;28mself\u001b[39m\u001b[38;5;241m.\u001b[39m_backward_pre_hooks \u001b[38;5;129;01mor\u001b[39;00m \u001b[38;5;28mself\u001b[39m\u001b[38;5;241m.\u001b[39m_forward_hooks \u001b[38;5;129;01mor\u001b[39;00m \u001b[38;5;28mself\u001b[39m\u001b[38;5;241m.\u001b[39m_forward_pre_hooks\n\u001b[0;32m   1560\u001b[0m         \u001b[38;5;129;01mor\u001b[39;00m _global_backward_pre_hooks \u001b[38;5;129;01mor\u001b[39;00m _global_backward_hooks\n\u001b[0;32m   1561\u001b[0m         \u001b[38;5;129;01mor\u001b[39;00m _global_forward_hooks \u001b[38;5;129;01mor\u001b[39;00m _global_forward_pre_hooks):\n\u001b[1;32m-> 1562\u001b[0m     \u001b[38;5;28;01mreturn\u001b[39;00m \u001b[43mforward_call\u001b[49m\u001b[43m(\u001b[49m\u001b[38;5;241;43m*\u001b[39;49m\u001b[43margs\u001b[49m\u001b[43m,\u001b[49m\u001b[43m \u001b[49m\u001b[38;5;241;43m*\u001b[39;49m\u001b[38;5;241;43m*\u001b[39;49m\u001b[43mkwargs\u001b[49m\u001b[43m)\u001b[49m\n\u001b[0;32m   1564\u001b[0m \u001b[38;5;28;01mtry\u001b[39;00m:\n\u001b[0;32m   1565\u001b[0m     result \u001b[38;5;241m=\u001b[39m \u001b[38;5;28;01mNone\u001b[39;00m\n",
      "Cell \u001b[1;32mIn[3], line 59\u001b[0m, in \u001b[0;36mCNN.forward\u001b[1;34m(self, x)\u001b[0m\n\u001b[0;32m     53\u001b[0m x \u001b[38;5;241m=\u001b[39m x\u001b[38;5;241m.\u001b[39mview(x\u001b[38;5;241m.\u001b[39msize(\u001b[38;5;241m0\u001b[39m), \u001b[38;5;241m-\u001b[39m\u001b[38;5;241m1\u001b[39m)\n\u001b[0;32m     55\u001b[0m \u001b[38;5;66;03m#print(\"dimensioni dopo il flattening:\", x.shape)\u001b[39;00m\n\u001b[0;32m     56\u001b[0m \u001b[38;5;66;03m#print(\"dimensioni previste:\", self.output_height, self.output_width)\u001b[39;00m\n\u001b[0;32m     57\u001b[0m \n\u001b[0;32m     58\u001b[0m \u001b[38;5;66;03m# Fully connected\u001b[39;00m\n\u001b[1;32m---> 59\u001b[0m x \u001b[38;5;241m=\u001b[39m \u001b[38;5;28;43mself\u001b[39;49m\u001b[38;5;241;43m.\u001b[39;49m\u001b[43mfc\u001b[49m\u001b[43m(\u001b[49m\u001b[43mx\u001b[49m\u001b[43m)\u001b[49m\n\u001b[0;32m     61\u001b[0m \u001b[38;5;66;03m# Applica la sigmoid per la classificazione binaria\u001b[39;00m\n\u001b[0;32m     62\u001b[0m x \u001b[38;5;241m=\u001b[39m torch\u001b[38;5;241m.\u001b[39msigmoid(x)\n",
      "File \u001b[1;32mc:\\Users\\user\\AppData\\Local\\Programs\\Python\\Python311\\Lib\\site-packages\\torch\\nn\\modules\\module.py:1553\u001b[0m, in \u001b[0;36mModule._wrapped_call_impl\u001b[1;34m(self, *args, **kwargs)\u001b[0m\n\u001b[0;32m   1551\u001b[0m     \u001b[38;5;28;01mreturn\u001b[39;00m \u001b[38;5;28mself\u001b[39m\u001b[38;5;241m.\u001b[39m_compiled_call_impl(\u001b[38;5;241m*\u001b[39margs, \u001b[38;5;241m*\u001b[39m\u001b[38;5;241m*\u001b[39mkwargs)  \u001b[38;5;66;03m# type: ignore[misc]\u001b[39;00m\n\u001b[0;32m   1552\u001b[0m \u001b[38;5;28;01melse\u001b[39;00m:\n\u001b[1;32m-> 1553\u001b[0m     \u001b[38;5;28;01mreturn\u001b[39;00m \u001b[38;5;28;43mself\u001b[39;49m\u001b[38;5;241;43m.\u001b[39;49m\u001b[43m_call_impl\u001b[49m\u001b[43m(\u001b[49m\u001b[38;5;241;43m*\u001b[39;49m\u001b[43margs\u001b[49m\u001b[43m,\u001b[49m\u001b[43m \u001b[49m\u001b[38;5;241;43m*\u001b[39;49m\u001b[38;5;241;43m*\u001b[39;49m\u001b[43mkwargs\u001b[49m\u001b[43m)\u001b[49m\n",
      "File \u001b[1;32mc:\\Users\\user\\AppData\\Local\\Programs\\Python\\Python311\\Lib\\site-packages\\torch\\nn\\modules\\module.py:1562\u001b[0m, in \u001b[0;36mModule._call_impl\u001b[1;34m(self, *args, **kwargs)\u001b[0m\n\u001b[0;32m   1557\u001b[0m \u001b[38;5;66;03m# If we don't have any hooks, we want to skip the rest of the logic in\u001b[39;00m\n\u001b[0;32m   1558\u001b[0m \u001b[38;5;66;03m# this function, and just call forward.\u001b[39;00m\n\u001b[0;32m   1559\u001b[0m \u001b[38;5;28;01mif\u001b[39;00m \u001b[38;5;129;01mnot\u001b[39;00m (\u001b[38;5;28mself\u001b[39m\u001b[38;5;241m.\u001b[39m_backward_hooks \u001b[38;5;129;01mor\u001b[39;00m \u001b[38;5;28mself\u001b[39m\u001b[38;5;241m.\u001b[39m_backward_pre_hooks \u001b[38;5;129;01mor\u001b[39;00m \u001b[38;5;28mself\u001b[39m\u001b[38;5;241m.\u001b[39m_forward_hooks \u001b[38;5;129;01mor\u001b[39;00m \u001b[38;5;28mself\u001b[39m\u001b[38;5;241m.\u001b[39m_forward_pre_hooks\n\u001b[0;32m   1560\u001b[0m         \u001b[38;5;129;01mor\u001b[39;00m _global_backward_pre_hooks \u001b[38;5;129;01mor\u001b[39;00m _global_backward_hooks\n\u001b[0;32m   1561\u001b[0m         \u001b[38;5;129;01mor\u001b[39;00m _global_forward_hooks \u001b[38;5;129;01mor\u001b[39;00m _global_forward_pre_hooks):\n\u001b[1;32m-> 1562\u001b[0m     \u001b[38;5;28;01mreturn\u001b[39;00m \u001b[43mforward_call\u001b[49m\u001b[43m(\u001b[49m\u001b[38;5;241;43m*\u001b[39;49m\u001b[43margs\u001b[49m\u001b[43m,\u001b[49m\u001b[43m \u001b[49m\u001b[38;5;241;43m*\u001b[39;49m\u001b[38;5;241;43m*\u001b[39;49m\u001b[43mkwargs\u001b[49m\u001b[43m)\u001b[49m\n\u001b[0;32m   1564\u001b[0m \u001b[38;5;28;01mtry\u001b[39;00m:\n\u001b[0;32m   1565\u001b[0m     result \u001b[38;5;241m=\u001b[39m \u001b[38;5;28;01mNone\u001b[39;00m\n",
      "File \u001b[1;32mc:\\Users\\user\\AppData\\Local\\Programs\\Python\\Python311\\Lib\\site-packages\\torch\\nn\\modules\\linear.py:117\u001b[0m, in \u001b[0;36mLinear.forward\u001b[1;34m(self, input)\u001b[0m\n\u001b[0;32m    116\u001b[0m \u001b[38;5;28;01mdef\u001b[39;00m \u001b[38;5;21mforward\u001b[39m(\u001b[38;5;28mself\u001b[39m, \u001b[38;5;28minput\u001b[39m: Tensor) \u001b[38;5;241m-\u001b[39m\u001b[38;5;241m>\u001b[39m Tensor:\n\u001b[1;32m--> 117\u001b[0m     \u001b[38;5;28;01mreturn\u001b[39;00m \u001b[43mF\u001b[49m\u001b[38;5;241;43m.\u001b[39;49m\u001b[43mlinear\u001b[49m\u001b[43m(\u001b[49m\u001b[38;5;28;43minput\u001b[39;49m\u001b[43m,\u001b[49m\u001b[43m \u001b[49m\u001b[38;5;28;43mself\u001b[39;49m\u001b[38;5;241;43m.\u001b[39;49m\u001b[43mweight\u001b[49m\u001b[43m,\u001b[49m\u001b[43m \u001b[49m\u001b[38;5;28;43mself\u001b[39;49m\u001b[38;5;241;43m.\u001b[39;49m\u001b[43mbias\u001b[49m\u001b[43m)\u001b[49m\n",
      "\u001b[1;31mRuntimeError\u001b[0m: mat1 and mat2 shapes cannot be multiplied (32x384 and 432x1)"
     ]
    }
   ],
   "source": [
    "# training del modello\n",
    "model.train()\n",
    "history = []\n",
    "print(\"inizio del training del modello\")\n",
    "for epoch in tqdm(range(n_epochs)):\n",
    "    train_loss = 0.0\n",
    "    train_accuracy = 0.0\n",
    "    print(\"epoca numero:\", epoch)\n",
    "    for i, (images, labels) in enumerate(train_loader):\n",
    "        print(\"Batch\", i, \"di\", len(train_loader))\n",
    "        images, labels = images.to(device), labels.to(device).float()\n",
    "        #pdb.set_trace()\n",
    "        yhat = model(images).squeeze(1)\n",
    "        #print(\"previsione:\", yhat)\n",
    "        #print(\"label vera:\", labels)\n",
    "        batch_weights = class_weights[labels.long()]\n",
    "        \n",
    "        # Definisci la funzione di perdita\n",
    "        loss_fn = nn.BCELoss(weight=batch_weights)\n",
    "        \n",
    "\n",
    "        loss = loss_fn(yhat, labels)\n",
    "        #print(\"loss:\", loss)\n",
    "        loss.backward()\n",
    "        optimizer.step()\n",
    "        optimizer.zero_grad()\n",
    "\n",
    "        train_loss += loss.item()\n",
    "        accuracy = calculate_metrics(yhat, labels)\n",
    "        train_accuracy += accuracy\n",
    "        #train_f1 += f1\n",
    "\n",
    "    avg_train_loss = train_loss / len(train_loader)\n",
    "    avg_train_accuracy = train_accuracy / len(train_loader)\n",
    "    #avg_train_f1 = train_f1 / len(train_loader)\n",
    "    print(f\"Epoca [{epoch + 1}/{n_epochs}] - Loss media: {avg_train_loss:.4f} - Accuracy: {avg_train_accuracy:.4f}\")#- F1 Score: {avg_train_f1:.4f}\")\n",
    "    history.append(avg_train_loss)\n",
    "\n",
    "print(\"Fine del training del modello\")\n",
    "print(history)\n",
    "#sns.lineplot(history).set_title('Loss vs Epoch')\n",
    "#plt.xlabel('Epochs')\n",
    "#plt.ylabel('Loss')\n",
    "#plt.savefig('loss_plot_04_05.png')\n",
    "\n",
    "\n",
    "\n",
    "\n",
    "print(\"salvataggio del modello\")\n",
    "torch.save(model.state_dict(), 'model_weights.pth')\n",
    "print(\"salvataggio del dataset di test\")\n",
    "torch.save(test_dataset, 'test_dataset.pth') "
   ]
  },
  {
   "cell_type": "code",
   "execution_count": 36,
   "metadata": {},
   "outputs": [
    {
     "name": "stdout",
     "output_type": "stream",
     "text": [
      "Test Loss: 0.3146\n",
      "Accuracy: 0.9983\n",
      "F1 Score: 0.9992\n",
      "Recall: 0.9998\n"
     ]
    },
    {
     "data": {
      "image/png": "[encoded data removed]",
      "text/plain": [
       "<Figure size 800x600 with 2 Axes>"
      ]
     },
     "metadata": {},
     "output_type": "display_data"
    }
   ],
   "source": [
    "import torch\n",
    "from sklearn.metrics import accuracy_score, f1_score, recall_score, confusion_matrix\n",
    "import seaborn as sns\n",
    "import matplotlib.pyplot as plt\n",
    "\n",
    "# Metti il modello in modalità di valutazione\n",
    "model.eval()\n",
    "\n",
    "# Variabili per tenere traccia delle predizioni e delle etichette reali\n",
    "all_preds = []\n",
    "all_labels = []\n",
    "test_loss = 0.0\n",
    "\n",
    "# Disattiva il calcolo dei gradienti\n",
    "with torch.no_grad():\n",
    "    for images, labels in test_loader:\n",
    "        images, labels = images.to(device), labels.to(device).float()\n",
    "        \n",
    "        # Ottieni le predizioni\n",
    "        yhat = model(images).squeeze(1)\n",
    "        \n",
    "        # Calcola il loss\n",
    "        # I pesi non vengono usati qui, poiché stiamo solo calcolando il loss per le metriche\n",
    "        loss = nn.BCEWithLogitsLoss()(yhat, labels)  # Puoi anche usare loss_fn se l'hai definita prima\n",
    "        test_loss += loss.item()\n",
    "        \n",
    "        # Applica una soglia di 0.5 per classificare come 0 o 1 (adatto per output di tipo sigmoid)\n",
    "        preds = (torch.sigmoid(yhat) > 0.5).float()  # Assicurati di applicare sigmoid per convertire in probabilità\n",
    "        \n",
    "        # Memorizza le predizioni e le etichette vere\n",
    "        all_preds.extend(preds.cpu().numpy())\n",
    "        all_labels.extend(labels.cpu().numpy())\n",
    "\n",
    "# Calcola il loss medio sul test set\n",
    "avg_test_loss = test_loss / len(test_loader)\n",
    "\n",
    "# Calcola altre metriche\n",
    "accuracy = accuracy_score(all_labels, all_preds)\n",
    "f1 = f1_score(all_labels, all_preds)\n",
    "recall = recall_score(all_labels, all_preds)\n",
    "\n",
    "# Stampa le metriche\n",
    "print(f\"Test Loss: {avg_test_loss:.4f}\")\n",
    "print(f\"Accuracy: {accuracy:.4f}\")\n",
    "print(f\"F1 Score: {f1:.4f}\")\n",
    "print(f\"Recall: {recall:.4f}\")\n",
    "\n",
    "# Calcola e visualizza la matrice di confusione\n",
    "conf_matrix = confusion_matrix(all_labels, all_preds)\n",
    "plt.figure(figsize=(8, 6))\n",
    "sns.heatmap(conf_matrix, annot=True, fmt=\"d\", cmap=\"Blues\", xticklabels=[\"Benign\", \"Malware\"], yticklabels=[\"Benign\", \"Malware\"])\n",
    "plt.xlabel(\"Predicted Label\")\n",
    "plt.ylabel(\"True Label\")\n",
    "plt.title(\"Confusion Matrix\")\n",
    "plt.show()"
   ]
  }
 ],
 "metadata": {
  "kernelspec": {
   "display_name": "Python 3",
   "language": "python",
   "name": "python3"
  },
  "language_info": {
   "codemirror_mode": {
    "name": "ipython",
    "version": 3
   },
   "file_extension": ".py",
   "mimetype": "text/x-python",
   "name": "python",
   "nbconvert_exporter": "python",
   "pygments_lexer": "ipython3",
   "version": "3.11.1"
  }
 },
 "nbformat": 4,
 "nbformat_minor": 2
}
